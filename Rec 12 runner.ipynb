{
 "cells": [
  {
   "cell_type": "code",
   "execution_count": 5,
   "metadata": {},
   "outputs": [
    {
     "name": "stdout",
     "output_type": "stream",
     "text": [
      "[8, 5, 0, 5, 8, 1, 5, 1, 10, 9, 9]\n"
     ]
    }
   ],
   "source": [
    "li = [12,44,13,88,23,94,11,39,20,16,5]\n",
    "keys=[0]*len(li)\n",
    "for i in range(len(li)):\n",
    "    keys[i]=(3*li[i]+5)%11\n",
    "print(keys)"
   ]
  },
  {
   "cell_type": "code",
   "execution_count": 7,
   "metadata": {},
   "outputs": [
    {
     "name": "stdout",
     "output_type": "stream",
     "text": [
      "[2, 5, 1, 3, 5, 4, 3, 3, 1, 5, 2]\n"
     ]
    }
   ],
   "source": [
    "double_hash=[0]*len(li)\n",
    "for i in range(len(li)):\n",
    "    double_hash[i]=7-li[i]%7\n",
    "print(double_hash)"
   ]
  },
  {
   "cell_type": "code",
   "execution_count": 9,
   "metadata": {},
   "outputs": [
    {
     "name": "stdout",
     "output_type": "stream",
     "text": [
      "17\n"
     ]
    }
   ],
   "source": [
    "print(34//2)"
   ]
  },
  {
   "cell_type": "code",
   "execution_count": 15,
   "metadata": {
    "scrolled": true
   },
   "outputs": [
    {
     "name": "stdout",
     "output_type": "stream",
     "text": [
      "l2 should be subset of l1........\n",
      "Your result: True\n",
      "l3 should not be subset of l1........\n",
      "Your result: False\n"
     ]
    }
   ],
   "source": [
    "#task 4\n",
    "from probe_hash_map import ProbeHashMap\n",
    "\n",
    "def l1_contains_l2(l1, l2):\n",
    "    \"\"\" checks if every element in l2 exists in l1.\n",
    "    :param l1: List[Int] -- the first python list\n",
    "    :param l2: List[Int] -- the second python list\n",
    "\n",
    "    return: True if all elements in l2 is exists in l1\n",
    "    \"\"\"\n",
    "    # To do - task 4\n",
    "    pass\n",
    "    table1 = ProbeHashMap()\n",
    "    for i in range(len(l1)):\n",
    "        table1[i]=l1[i]\n",
    "    c=0\n",
    "    for i in range(len(l2)):\n",
    "        if l2[i] in table1:\n",
    "            c+=1\n",
    "    if c==len(l2):\n",
    "        return True\n",
    "    else:\n",
    "        return False\n",
    "    \n",
    "\n",
    "def main():\n",
    "    l1 = [1,2,3,4,5,6,7,8,9,0]\n",
    "    l2 = [5,2,8,9,0,1]\n",
    "    l3 = [5,2,8,9,0,1,\"haha\"]\n",
    "    print(\"l2 should be subset of l1........\")\n",
    "    print(\"Your result:\", l1_contains_l2(l1, l2))\n",
    "    print(\"l3 should not be subset of l1........\")\n",
    "    print(\"Your result:\", l1_contains_l2(l1, l3))\n",
    "main()\n",
    "\n",
    "\n"
   ]
  },
  {
   "cell_type": "code",
   "execution_count": 31,
   "metadata": {},
   "outputs": [
    {
     "name": "stdout",
     "output_type": "stream",
     "text": [
      "The most frequent word is interest\n",
      "Its number of occurrences is 7\n"
     ]
    }
   ],
   "source": [
    "#task 5\n",
    "from probe_hash_map import ProbeHashMap\n",
    "\n",
    "table = ProbeHashMap()\n",
    "file = open(\"count_words.txt\", \"r\")\n",
    "# To do - task 5\n",
    "for line in file:\n",
    "    for word in line.split():\n",
    "        if word in table:\n",
    "            table[word]+=1\n",
    "        else:\n",
    "            table[word]=1\n",
    "max_word = max(table, key=table.get)\n",
    "max_count = table[max_word]\n",
    "\n",
    "\n",
    "\n",
    "print('The most frequent word is', max_word)\n",
    "print('Its number of occurrences is', max_count)\n"
   ]
  },
  {
   "cell_type": "code",
   "execution_count": 47,
   "metadata": {},
   "outputs": [
    {
     "name": "stdout",
     "output_type": "stream",
     "text": [
      "[10, 15, 4, 20, 8, 2] ||||should contain [10,15,4,20,8,2], order doesn't matter.\n",
      "[10, 4] ||||should contain [4, 10], order doesn't matter.\n"
     ]
    }
   ],
   "source": [
    "def union(l1, l2):\n",
    "    \"\"\"\n",
    "        :param l1: List[Int] -- the first python list\n",
    "        :param l2: List[Int] -- the second python list\n",
    "        \n",
    "        Return a new python list of the union of l1 and l2.\n",
    "        Order of elements in the output list doesn’t matter.\n",
    "        Use python built in dictionary for this question.\n",
    "\n",
    "        return: union of l1 and l2, as a SingleLinkedList.\n",
    "    \"\"\"\n",
    "    # To do - task 6\n",
    "    pass\n",
    "    united=dict()\n",
    "    for i in range(len(l1)):\n",
    "        united[l1[i]]=1\n",
    "    for i in range(len(l2)):\n",
    "        if l2[i] not in united:\n",
    "            united[l2[i]]=1\n",
    "    return list(united.keys())\n",
    "\n",
    "\n",
    "def intersection(l1, l2):\n",
    "    \"\"\"\n",
    "        :param l1: List[Int] -- the first python list\n",
    "        :param l2: List[Int] -- the second python list\n",
    "        \n",
    "        Return a new python list of the intersection of l1 and l2.\n",
    "        Order of elements in the output list doesn’t matter.\n",
    "        Use python built in dictionary for this question.\n",
    "\n",
    "        return: intersection of l1 and l2, as a SingleLinkedList.\n",
    "    \"\"\"\n",
    "    # To do - task 7\n",
    "    pass\n",
    "    intersect=dict()\n",
    "    for i in range(len(l1)):\n",
    "        intersect[l1[i]]=1\n",
    "    for i in range(len(l2)):\n",
    "        if l2[i] in intersect:\n",
    "            intersect[l2[i]]+=1\n",
    "        else:\n",
    "            intersect[l2[i]]=1\n",
    "    b = dict( (key, value) for (key, value) in intersect.items() if value > 1)\n",
    "    return list(b.keys())\n",
    "\n",
    "\n",
    "\n",
    "def main():\n",
    "    l1 = [10, 15, 4, 20]\n",
    "\n",
    "    l2 = [8, 4, 2, 10]\n",
    "\n",
    "\n",
    "    print(union(l1, l2), \"||||should contain [10,15,4,20,8,2], order doesn't matter.\")\n",
    "    print(intersection(l1, l2), \"||||should contain [4, 10], order doesn't matter.\")\n",
    "\n",
    "main()\n",
    "    \n"
   ]
  },
  {
   "cell_type": "code",
   "execution_count": null,
   "metadata": {},
   "outputs": [],
   "source": []
  }
 ],
 "metadata": {
  "kernelspec": {
   "display_name": "Python 3",
   "language": "python",
   "name": "python3"
  },
  "language_info": {
   "codemirror_mode": {
    "name": "ipython",
    "version": 3
   },
   "file_extension": ".py",
   "mimetype": "text/x-python",
   "name": "python",
   "nbconvert_exporter": "python",
   "pygments_lexer": "ipython3",
   "version": "3.7.4"
  }
 },
 "nbformat": 4,
 "nbformat_minor": 2
}
